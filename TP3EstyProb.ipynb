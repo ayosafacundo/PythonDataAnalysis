{
 "cells": [
  {
   "cell_type": "code",
   "execution_count": 12,
   "metadata": {},
   "outputs": [],
   "source": [
    "x = (126.5868,128.3580,129.6522,134.4305,138.4266,140.6404)"
   ]
  },
  {
   "cell_type": "code",
   "execution_count": 14,
   "metadata": {},
   "outputs": [
    {
     "name": "stdout",
     "output_type": "stream",
     "text": [
      "41.3313981025 - (126.5868 - 133.01575)^2\n",
      "63.02603316499994 - (128.358 - 133.01575)^2\n",
      "74.33950176749997 - (129.6522 - 133.01575)^2\n",
      "76.34101932999997 - (134.4305 - 133.01575)^2\n",
      "105.61831705250009 - (138.4266 - 133.01575)^2\n",
      "163.75360467500013 - (140.6404 - 133.01575)^2\n"
     ]
    },
    {
     "data": {
      "text/plain": [
       "163.75360467500013"
      ]
     },
     "execution_count": 14,
     "metadata": {},
     "output_type": "execute_result"
    }
   ],
   "source": [
    "acc = 0\n",
    "for num in x:\n",
    "    acc += (num - 133.01575)**2\n",
    "    print(acc, \"-\", f\"({num} - 133.01575)^2\")\n",
    "acc"
   ]
  },
  {
   "cell_type": "code",
   "execution_count": 15,
   "metadata": {},
   "outputs": [
    {
     "data": {
      "text/plain": [
       "58.13528762250004"
      ]
     },
     "execution_count": 15,
     "metadata": {},
     "output_type": "execute_result"
    }
   ],
   "source": [
    "(140.6404 - 133.01575)**2"
   ]
  }
 ],
 "metadata": {
  "kernelspec": {
   "display_name": ".venv",
   "language": "python",
   "name": "python3"
  },
  "language_info": {
   "codemirror_mode": {
    "name": "ipython",
    "version": 3
   },
   "file_extension": ".py",
   "mimetype": "text/x-python",
   "name": "python",
   "nbconvert_exporter": "python",
   "pygments_lexer": "ipython3",
   "version": "3.12.2"
  }
 },
 "nbformat": 4,
 "nbformat_minor": 2
}
