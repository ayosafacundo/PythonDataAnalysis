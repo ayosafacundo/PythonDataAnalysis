{
 "cells": [
  {
   "cell_type": "code",
   "execution_count": 2,
   "metadata": {},
   "outputs": [],
   "source": [
    "import math as m\n",
    "import pandas as pd\n",
    "import numpy as np"
   ]
  },
  {
   "cell_type": "code",
   "execution_count": 3,
   "metadata": {},
   "outputs": [],
   "source": [
    "total_ventas = [\n",
    "    (1, 1),\n",
    "    (2, 1),\n",
    "    (3, 7),\n",
    "    (4, 7),\n",
    "    (5, 13),\n",
    "    (6, 14),\n",
    "    (7, 18),\n",
    "    (8, 21),\n",
    "    (9, 24),\n",
    "    (10, 26),\n",
    "    (11, 30),\n",
    "    (12, 32)\n",
    "]\n",
    "\n",
    "overlineX = 6.5\n",
    "overlineY = 16.1666666667"
   ]
  },
  {
   "cell_type": "code",
   "execution_count": 4,
   "metadata": {},
   "outputs": [],
   "source": [
    "#def fdet(t):\n",
    "#   a = (r.random() * 2 -1)\n",
    "#   return (t*3 + 2*a, a)\n",
    "#\n",
    "#for i in range(13):\n",
    "#   total_ventas.append(fdet(i))"
   ]
  },
  {
   "cell_type": "code",
   "execution_count": 5,
   "metadata": {},
   "outputs": [
    {
     "data": {
      "text/plain": [
       "[(1, 1),\n",
       " (2, 1),\n",
       " (3, 7),\n",
       " (4, 7),\n",
       " (5, 13),\n",
       " (6, 14),\n",
       " (7, 18),\n",
       " (8, 21),\n",
       " (9, 24),\n",
       " (10, 26),\n",
       " (11, 30),\n",
       " (12, 32)]"
      ]
     },
     "execution_count": 5,
     "metadata": {},
     "output_type": "execute_result"
    }
   ],
   "source": [
    "total_ventas\n"
   ]
  },
  {
   "cell_type": "code",
   "execution_count": 6,
   "metadata": {},
   "outputs": [
    {
     "name": "stdout",
     "output_type": "stream",
     "text": [
      "423.99999999999994\n",
      "143.0\n"
     ]
    }
   ],
   "source": [
    "acc = 0\n",
    "for index, c in enumerate(total_ventas):\n",
    "    acc += (c[0]- overlineX) * (c[1] - overlineY)\n",
    "\n",
    "acc2 = 0\n",
    "for index, c in enumerate(total_ventas):\n",
    "    acc2 += (c[0]- overlineX)**2\n",
    "\n",
    "print(acc)\n",
    "print(acc2)"
   ]
  },
  {
   "cell_type": "markdown",
   "metadata": {},
   "source": [
    "# Coeficiente de Correlación de Pearson:"
   ]
  },
  {
   "cell_type": "code",
   "execution_count": 7,
   "metadata": {},
   "outputs": [
    {
     "name": "stdout",
     "output_type": "stream",
     "text": [
      "423.99999999999994 / sqrt(143.0 * sqrt(1269.6666666666665)\n"
     ]
    },
    {
     "data": {
      "text/plain": [
       "0.995068501163086"
      ]
     },
     "execution_count": 7,
     "metadata": {},
     "output_type": "execute_result"
    }
   ],
   "source": [
    "pearsonR = 0\n",
    "pR0 = 0\n",
    "pR1 = 0\n",
    "pR2 = 0\n",
    "for c in total_ventas:\n",
    "    pR0 += (c[0] - overlineX)*(c[1] - overlineY)\n",
    "    pR1 += (c[0] - overlineX)**2\n",
    "    pR2 += (c[1] - overlineY)**2\n",
    "\n",
    "pearsonR = pR0 / (m.sqrt(pR1) * m.sqrt(pR2))\n",
    "\n",
    "print(f\"{pR0} / sqrt({pR1} * sqrt({pR2})\")\n",
    "pearsonR"
   ]
  },
  {
   "cell_type": "markdown",
   "metadata": {},
   "source": [
    "# Asociación lineal entre valores observados (del total_ventas) y valores esperados.\n",
    "# Error Estándar de todos los valores."
   ]
  },
  {
   "cell_type": "code",
   "execution_count": 8,
   "metadata": {},
   "outputs": [
    {
     "name": "stdout",
     "output_type": "stream",
     "text": [
      "Asociación Lineal: 0.99016, Error Estándar: 1.11767\n"
     ]
    }
   ],
   "source": [
    "valores = []\n",
    "def f(x) :\n",
    "    return -3.10606 + 2.96503 * x\n",
    "for c in total_ventas:\n",
    "    valores.append((c[1], round(f(c[0]),5), round(c[1] - f(c[0]), 5)))\n",
    "valores\n",
    "\n",
    "AL0 = 0\n",
    "AL1 = 0\n",
    "for c in valores:\n",
    "    AL0 += (c[0] - overlineY)**2\n",
    "    AL1 += (c[2])**2\n",
    "AL = round((AL0 - AL1) / AL0, 5)\n",
    "AL\n",
    "\n",
    "ErrorEstandar = 0\n",
    "for c in valores:\n",
    "    ErrorEstandar += c[2]**2\n",
    "ErrorEstandar = round(m.sqrt(ErrorEstandar/(len(valores)-2)), 5)\n",
    "ErrorEstandar\n",
    "\n",
    "print(f\"Asociación Lineal: {AL}, Error Estándar: {ErrorEstandar}\")"
   ]
  },
  {
   "cell_type": "markdown",
   "metadata": {},
   "source": [
    "# SST, SSR y SSE"
   ]
  },
  {
   "cell_type": "code",
   "execution_count": 9,
   "metadata": {},
   "outputs": [
    {
     "name": "stdout",
     "output_type": "stream",
     "text": [
      "SST = 1269.66667, SSR = 2.96503, SSE = 1266.70164\n"
     ]
    }
   ],
   "source": [
    "SST = 0\n",
    "SSR0 = 0\n",
    "SSR2 = 0\n",
    "for item in total_ventas:\n",
    "    a = round(item[0] - overlineX,5)\n",
    "    b = round(item[1] - overlineY,5)\n",
    "    SSR0 += a * b\n",
    "    SSR2 += a**2\n",
    "    SST += b**2\n",
    "SSR = round(SSR0/SSR2,5)\n",
    "SSE = round(SST - SSR,5)\n",
    "SST = round(SST,5)\n",
    "print(f\"SST = {SST}, SSR = {SSR}, SSE = {SSE}\")"
   ]
  },
  {
   "cell_type": "markdown",
   "metadata": {},
   "source": [
    "# Full Analisis de los valores totales sobre los primeros 12 meses."
   ]
  },
  {
   "cell_type": "code",
   "execution_count": 10,
   "metadata": {},
   "outputs": [],
   "source": [
    "def getAcumulative(dataset):\n",
    "    acum = []\n",
    "    valor_acum = 0\n",
    "    for i in dataset:\n",
    "        valor_acum += i\n",
    "        acum.append(valor_acum)\n",
    "    return acum\n",
    "\n",
    "## Tablas de frecuencias\n",
    "def FrecuencyTable(sample):\n",
    "    frec1 = pd.Series(sample).value_counts()\n",
    "    dataFrame = pd.DataFrame(frec1).sort_index()\n",
    "    dataFrame.columns = [\"Frecuencia Absoluta\"]\n",
    "    dataFrame[\"Frecuencia Absoluta Acumulada\"] = getAcumulative(dataFrame[\"Frecuencia Absoluta\"].values)\n",
    "    dataFrame[\"Frecuencia Relativa\"] = 100*dataFrame[\"Frecuencia Absoluta\"]/len(sample)\n",
    "    dataFrame[\"Frecuencia Relativa Acumulada\"] = getAcumulative(dataFrame[\"Frecuencia Relativa\"].values)\n",
    "    return dataFrame\n",
    "\n",
    "## Analisis completo, muestra:\n",
    "# Mínimo, Máximo, Recorrido, Media muestral, Desvío medio, y Estadístico varianza muestral \n",
    "def getAnalysis(dataset):    \n",
    "    minimo = np.min(dataset)\n",
    "    maximo = np.max(dataset)\n",
    "    recorrido = maximo - minimo\n",
    "    acc = 0\n",
    "    for i in dataset:\n",
    "        acc += i\n",
    "    media_muestral = acc/len(dataset)\n",
    "    acc = 0\n",
    "    for i in dataset:\n",
    "        acc += abs(i - media_muestral)\n",
    "    desvio_medio = acc / len(dataset)\n",
    "    acc = 0\n",
    "    for i in dataset:\n",
    "        acc += (i - media_muestral)**2\n",
    "    estadistico_varianza_muestral = acc/(len(dataset) - 1)\n",
    "    desvio_muestral = np.sqrt(estadistico_varianza_muestral)\n",
    "    acc = 0\n",
    "    for i in dataset:\n",
    "        if i < 1000:\n",
    "            acc += 1\n",
    "    p1 = acc / len(dataset) * 100\n",
    "    return [minimo, maximo, recorrido, media_muestral, desvio_medio, estadistico_varianza_muestral, desvio_muestral, p1]\n",
    "\n",
    "# Full Analisis\n",
    "def fullAnalysis(dataset):\n",
    "    analysis = getAnalysis(dataset)\n",
    "    print(f\"Mínimo: {analysis[0]}\\nMáximo: {analysis[1]}\\nRecorrido: {analysis[2]}\\nMedia muestral: {analysis[3]}\\nDesvio medio: {analysis[4]}\\nEstadístico varianza muestral: {analysis[5]}\\nDesvío Muestral: {analysis[6]}\\nP1: {analysis[7]}\")\n",
    "\n",
    "total_ventas_x = [x[0] for x in total_ventas]\n",
    "total_ventas_y = [y[1] for y in total_ventas]"
   ]
  },
  {
   "cell_type": "code",
   "execution_count": null,
   "metadata": {},
   "outputs": [
    {
     "data": {
      "text/plain": [
       "[1, 1, 7, 7, 13, 14, 18, 21, 24, 26, 30, 32, 37]"
      ]
     },
     "execution_count": 11,
     "metadata": {},
     "output_type": "execute_result"
    }
   ],
   "source": [
    "a = [*total_ventas_y, 37]\n",
    "fullAnalysis(a)\n",
    "FrecuencyTable(a)"
   ]
  }
 ],
 "metadata": {
  "kernelspec": {
   "display_name": ".venv",
   "language": "python",
   "name": "python3"
  },
  "language_info": {
   "codemirror_mode": {
    "name": "ipython",
    "version": 3
   },
   "file_extension": ".py",
   "mimetype": "text/x-python",
   "name": "python",
   "nbconvert_exporter": "python",
   "pygments_lexer": "ipython3",
   "version": "3.12.2"
  }
 },
 "nbformat": 4,
 "nbformat_minor": 2
}
